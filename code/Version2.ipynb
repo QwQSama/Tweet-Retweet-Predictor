{
 "cells": [
  {
   "cell_type": "code",
   "execution_count": 1,
   "id": "21b6cfec",
   "metadata": {
    "ExecuteTime": {
     "end_time": "2022-12-07T12:27:14.181301Z",
     "start_time": "2022-12-07T12:27:09.469937Z"
    }
   },
   "outputs": [],
   "source": [
    "import csv\n",
    "import numpy as np\n",
    "import pandas as pd\n",
    "from sklearn.ensemble import GradientBoostingRegressor\n",
    "from sklearn.dummy import DummyRegressor\n",
    "from sklearn.feature_extraction.text import TfidfVectorizer\n",
    "from sklearn.metrics import mean_absolute_error\n",
    "from verstack.stratified_continuous_split import scsplit # pip install verstack\n",
    "from nltk.corpus import stopwords \n",
    "from nltk.tokenize import word_tokenize\n",
    "from nltk.stem import WordNetLemmatizer\n",
    "import nltk\n",
    "import seaborn as sns\n",
    "from datetime import datetime\n",
    "import matplotlib.pyplot as plt\n",
    "from bs4 import BeautifulSoup\n",
    "import re\n",
    "import scipy\n",
    "import sklearn\n",
    "\n",
    "from sklearn.ensemble import StackingRegressor\n",
    "from lightgbm import LGBMRegressor\n",
    "from xgboost import XGBRegressor\n",
    "# from catboost import CatBoostRegressor\n",
    "from sklearn.ensemble import VotingRegressor\n",
    "\n",
    "from sklearn.ensemble import ExtraTreesClassifier\n",
    "import matplotlib.pyplot as plt\n",
    "\n",
    "from sklearn.feature_extraction.text import CountVectorizer\n",
    "\n",
    "import gensim\n",
    "import os\n",
    "import collections\n",
    "import smart_open\n",
    "import random\n",
    "from math import floor, ceil\n",
    "from gensim.test.utils import get_tmpfile\n",
    "from sklearn import preprocessing"
   ]
  },
  {
   "cell_type": "code",
   "execution_count": 2,
   "id": "ef45fda4",
   "metadata": {
    "ExecuteTime": {
     "end_time": "2022-12-07T12:27:21.803184Z",
     "start_time": "2022-12-07T12:27:21.077636Z"
    }
   },
   "outputs": [
    {
     "data": {
      "text/html": [
       "<div>\n",
       "<style scoped>\n",
       "    .dataframe tbody tr th:only-of-type {\n",
       "        vertical-align: middle;\n",
       "    }\n",
       "\n",
       "    .dataframe tbody tr th {\n",
       "        vertical-align: top;\n",
       "    }\n",
       "\n",
       "    .dataframe thead th {\n",
       "        text-align: right;\n",
       "    }\n",
       "</style>\n",
       "<table border=\"1\" class=\"dataframe\">\n",
       "  <thead>\n",
       "    <tr style=\"text-align: right;\">\n",
       "      <th></th>\n",
       "      <th>text</th>\n",
       "      <th>retweets_count</th>\n",
       "      <th>favorites_count</th>\n",
       "      <th>followers_count</th>\n",
       "      <th>statuses_count</th>\n",
       "      <th>friends_count</th>\n",
       "      <th>mentions</th>\n",
       "      <th>urls</th>\n",
       "      <th>verified</th>\n",
       "      <th>hashtags</th>\n",
       "      <th>timestamp</th>\n",
       "      <th>TweetID</th>\n",
       "    </tr>\n",
       "  </thead>\n",
       "  <tbody>\n",
       "    <tr>\n",
       "      <th>0</th>\n",
       "      <td>rt refarcir macron ans nom prépare</td>\n",
       "      <td>3</td>\n",
       "      <td>0</td>\n",
       "      <td>3682</td>\n",
       "      <td>453535</td>\n",
       "      <td>3628</td>\n",
       "      <td>[]</td>\n",
       "      <td>[]</td>\n",
       "      <td>0</td>\n",
       "      <td>[]</td>\n",
       "      <td>1646978048000</td>\n",
       "      <td>832509</td>\n",
       "    </tr>\n",
       "    <tr>\n",
       "      <th>1</th>\n",
       "      <td>populaire</td>\n",
       "      <td>0</td>\n",
       "      <td>0</td>\n",
       "      <td>86</td>\n",
       "      <td>1016</td>\n",
       "      <td>284</td>\n",
       "      <td>[]</td>\n",
       "      <td>[]</td>\n",
       "      <td>0</td>\n",
       "      <td>[]</td>\n",
       "      <td>1647694288000</td>\n",
       "      <td>1388011</td>\n",
       "    </tr>\n",
       "    <tr>\n",
       "      <th>2</th>\n",
       "      <td>faut dégager cinglé</td>\n",
       "      <td>3</td>\n",
       "      <td>1</td>\n",
       "      <td>1944</td>\n",
       "      <td>28234</td>\n",
       "      <td>1995</td>\n",
       "      <td>[]</td>\n",
       "      <td>[]</td>\n",
       "      <td>0</td>\n",
       "      <td>[]</td>\n",
       "      <td>1647370048000</td>\n",
       "      <td>63896</td>\n",
       "    </tr>\n",
       "    <tr>\n",
       "      <th>3</th>\n",
       "      <td>enseignants mettre prescriptions président rép...</td>\n",
       "      <td>0</td>\n",
       "      <td>0</td>\n",
       "      <td>1</td>\n",
       "      <td>1072</td>\n",
       "      <td>0</td>\n",
       "      <td>[]</td>\n",
       "      <td>['https://t.co/rytlted08g']</td>\n",
       "      <td>0</td>\n",
       "      <td>[]</td>\n",
       "      <td>1647256282000</td>\n",
       "      <td>979251</td>\n",
       "    </tr>\n",
       "    <tr>\n",
       "      <th>4</th>\n",
       "      <td>mafieuse oppressive macron</td>\n",
       "      <td>0</td>\n",
       "      <td>0</td>\n",
       "      <td>13957</td>\n",
       "      <td>25311</td>\n",
       "      <td>10841</td>\n",
       "      <td>[]</td>\n",
       "      <td>[]</td>\n",
       "      <td>0</td>\n",
       "      <td>[]</td>\n",
       "      <td>1647258374000</td>\n",
       "      <td>1040049</td>\n",
       "    </tr>\n",
       "    <tr>\n",
       "      <th>...</th>\n",
       "      <td>...</td>\n",
       "      <td>...</td>\n",
       "      <td>...</td>\n",
       "      <td>...</td>\n",
       "      <td>...</td>\n",
       "      <td>...</td>\n",
       "      <td>...</td>\n",
       "      <td>...</td>\n",
       "      <td>...</td>\n",
       "      <td>...</td>\n",
       "      <td>...</td>\n",
       "      <td>...</td>\n",
       "    </tr>\n",
       "    <tr>\n",
       "      <th>353964</th>\n",
       "      <td>gonflette tour raciste frustré</td>\n",
       "      <td>0</td>\n",
       "      <td>0</td>\n",
       "      <td>34</td>\n",
       "      <td>1509</td>\n",
       "      <td>55</td>\n",
       "      <td>[]</td>\n",
       "      <td>['https://t.co/pma33zhslx']</td>\n",
       "      <td>0</td>\n",
       "      <td>[]</td>\n",
       "      <td>1647438153000</td>\n",
       "      <td>142573</td>\n",
       "    </tr>\n",
       "    <tr>\n",
       "      <th>353965</th>\n",
       "      <td>france caste crapuleuse encadrée gangsters irr...</td>\n",
       "      <td>0</td>\n",
       "      <td>0</td>\n",
       "      <td>89</td>\n",
       "      <td>11166</td>\n",
       "      <td>127</td>\n",
       "      <td>[]</td>\n",
       "      <td>[]</td>\n",
       "      <td>0</td>\n",
       "      <td>[]</td>\n",
       "      <td>1647072106000</td>\n",
       "      <td>240866</td>\n",
       "    </tr>\n",
       "    <tr>\n",
       "      <th>353966</th>\n",
       "      <td>eric zemmour français berbère</td>\n",
       "      <td>3</td>\n",
       "      <td>0</td>\n",
       "      <td>1888</td>\n",
       "      <td>712</td>\n",
       "      <td>3086</td>\n",
       "      <td>[]</td>\n",
       "      <td>[]</td>\n",
       "      <td>0</td>\n",
       "      <td>[]</td>\n",
       "      <td>1647607230000</td>\n",
       "      <td>1173763</td>\n",
       "    </tr>\n",
       "    <tr>\n",
       "      <th>353967</th>\n",
       "      <td>gauchistes dépression pq</td>\n",
       "      <td>0</td>\n",
       "      <td>0</td>\n",
       "      <td>139</td>\n",
       "      <td>486</td>\n",
       "      <td>320</td>\n",
       "      <td>[]</td>\n",
       "      <td>[]</td>\n",
       "      <td>0</td>\n",
       "      <td>[]</td>\n",
       "      <td>1646987195000</td>\n",
       "      <td>929182</td>\n",
       "    </tr>\n",
       "    <tr>\n",
       "      <th>353968</th>\n",
       "      <td>algérie emmanuel macron grande histoire amour</td>\n",
       "      <td>0</td>\n",
       "      <td>0</td>\n",
       "      <td>0</td>\n",
       "      <td>82</td>\n",
       "      <td>24</td>\n",
       "      <td>[]</td>\n",
       "      <td>[]</td>\n",
       "      <td>0</td>\n",
       "      <td>[]</td>\n",
       "      <td>1647602843000</td>\n",
       "      <td>1250518</td>\n",
       "    </tr>\n",
       "  </tbody>\n",
       "</table>\n",
       "<p>353969 rows × 12 columns</p>\n",
       "</div>"
      ],
      "text/plain": [
       "                                                     text  retweets_count  \\\n",
       "0                      rt refarcir macron ans nom prépare               3   \n",
       "1                                               populaire               0   \n",
       "2                                     faut dégager cinglé               3   \n",
       "3       enseignants mettre prescriptions président rép...               0   \n",
       "4                              mafieuse oppressive macron               0   \n",
       "...                                                   ...             ...   \n",
       "353964                     gonflette tour raciste frustré               0   \n",
       "353965  france caste crapuleuse encadrée gangsters irr...               0   \n",
       "353966                      eric zemmour français berbère               3   \n",
       "353967                           gauchistes dépression pq               0   \n",
       "353968      algérie emmanuel macron grande histoire amour               0   \n",
       "\n",
       "        favorites_count  followers_count  statuses_count  friends_count  \\\n",
       "0                     0             3682          453535           3628   \n",
       "1                     0               86            1016            284   \n",
       "2                     1             1944           28234           1995   \n",
       "3                     0                1            1072              0   \n",
       "4                     0            13957           25311          10841   \n",
       "...                 ...              ...             ...            ...   \n",
       "353964                0               34            1509             55   \n",
       "353965                0               89           11166            127   \n",
       "353966                0             1888             712           3086   \n",
       "353967                0              139             486            320   \n",
       "353968                0                0              82             24   \n",
       "\n",
       "       mentions                         urls  verified hashtags  \\\n",
       "0            []                           []         0       []   \n",
       "1            []                           []         0       []   \n",
       "2            []                           []         0       []   \n",
       "3            []  ['https://t.co/rytlted08g']         0       []   \n",
       "4            []                           []         0       []   \n",
       "...         ...                          ...       ...      ...   \n",
       "353964       []  ['https://t.co/pma33zhslx']         0       []   \n",
       "353965       []                           []         0       []   \n",
       "353966       []                           []         0       []   \n",
       "353967       []                           []         0       []   \n",
       "353968       []                           []         0       []   \n",
       "\n",
       "            timestamp  TweetID  \n",
       "0       1646978048000   832509  \n",
       "1       1647694288000  1388011  \n",
       "2       1647370048000    63896  \n",
       "3       1647256282000   979251  \n",
       "4       1647258374000  1040049  \n",
       "...               ...      ...  \n",
       "353964  1647438153000   142573  \n",
       "353965  1647072106000   240866  \n",
       "353966  1647607230000  1173763  \n",
       "353967  1646987195000   929182  \n",
       "353968  1647602843000  1250518  \n",
       "\n",
       "[353969 rows x 12 columns]"
      ]
     },
     "execution_count": 2,
     "metadata": {},
     "output_type": "execute_result"
    }
   ],
   "source": [
    "# Load the training data\n",
    "train_data = pd.read_csv(\"train.csv\")\n",
    "train_data"
   ]
  },
  {
   "cell_type": "markdown",
   "id": "d449b1a1",
   "metadata": {},
   "source": [
    "### Define some functions that we will use in our project"
   ]
  },
  {
   "cell_type": "code",
   "execution_count": 3,
   "id": "d8499f20",
   "metadata": {
    "ExecuteTime": {
     "end_time": "2022-12-07T12:27:24.790269Z",
     "start_time": "2022-12-07T12:27:24.766348Z"
    }
   },
   "outputs": [],
   "source": [
    "## to check if there were missing values in the data set\n",
    "def check_missing_value(df):\n",
    "    numbers_rows = df.shape[0]\n",
    "    numbers_columns = df.shape[1]\n",
    "    print(f'data rows : {numbers_rows} | columns : {numbers_columns}')\n",
    "    print('The percentage of empty values')\n",
    "    print(df.isna().sum()/len(df))\n",
    "    # df.isna().sum()\n",
    "    \n",
    "## to check if there were any duplicated entries in the data set\n",
    "def check_duplicated(df):\n",
    "    mask_duplicated = df.duplicated(keep=False)\n",
    "    print(df[mask_duplicated])\n",
    "    \n",
    "## to process the timestamp\n",
    "def timestamp_process(df):\n",
    "    df['time_date'] = pd.to_datetime(df['timestamp'], unit='ms')\n",
    "    # df.time_date.head(5)\n",
    "    df['day'] = df.time_date.dt.day.astype(np.int8)\n",
    "    df['month'] = df.time_date.dt.month.astype(np.int8)\n",
    "    df['hour'] = df.time_date.dt.hour.astype(np.int8)\n",
    "    df['day_of_week'] = df.time_date.dt.dayofweek.astype(\"int8\") #Monday=0, Sunday=6 \n",
    "    # df.describe()\n",
    "\n",
    "def one_hot_coding_week(df):\n",
    "    # list of columns to encode using One-Hot-Encoding\n",
    "    columns_to_encode = [\"day_of_week\"]\n",
    "    # encode those columns\n",
    "    encoded_data = pd.get_dummies(df[columns_to_encode], columns=columns_to_encode)\n",
    "    encoded_data\n",
    "    encoded_data.rename({'day_of_week_0': 'Monday', \n",
    "                     'day_of_week_1': \"Tuesday\", \n",
    "                     'day_of_week_2': \"Wednesday\",\n",
    "                     'day_of_week_3': \"Thursday\",\n",
    "                     'day_of_week_4': \"Friday\",\n",
    "                     'day_of_week_5': \"Saturday\",\n",
    "                    'day_of_week_6': \"Sunday\"},axis='columns', inplace=True)\n",
    "    # add encoded columns to the data\n",
    "    df = pd.concat([df, encoded_data], axis=1)   \n",
    "    return df\n",
    "\n",
    "def catagorized_hour(df):\n",
    "    df['day_hour']=0\n",
    "    df['day_hour'].loc[(df['hour']>5)&(df['hour']<22)] = 1\n",
    "    df['night_hour']=0\n",
    "    df['night_hour'].loc[(df['hour']<=5 )|(df['hour']>=22)] = 1\n",
    "\n",
    "def catagorized_length(df):\n",
    "    df['short']=0\n",
    "    df['short'].loc[df['text'].str.len()<45] = 1\n",
    "    df['medium']=0\n",
    "    df['medium'].loc[(df['text'].str.len()>=45)&(df['text'].str.len()<=80)] = 1\n",
    "    df['long']=0\n",
    "    df['long'].loc[df['text'].str.len()>80] = 1\n",
    "\n",
    "# Features to indicate whether a tweet has a url, hashtag, mention \n",
    "def has_hashtag_mention_urls(df):\n",
    "\n",
    "    df['has_url'] = 0\n",
    "    df.loc[df['urls'] != '[]', 'has_url'] = 1\n",
    "\n",
    "    df['has_mention'] = 0\n",
    "    df.loc[df['mentions'] != '[]', 'has_mention'] = 1\n",
    "\n",
    "    df['has_hashtag'] = 0\n",
    "    df.loc[df['hashtags'] != '[]', 'has_hashtag'] = 1\n",
    "\n",
    "def Follower_friend(df):\n",
    "    ###Followers/#Friends No. of followers and friends ratio Log transformed and then standardized\n",
    "    ## Ref: CIKM AnalytiCup 2020: COVID-19 Retweet Prediction with Personalized Attention\n",
    "    df['Follower_friend']=df['followers_count']/df['friends_count']\n",
    "    df['Follower_friend']=df['Follower_friend'].replace(np.inf,0)\n",
    "    df['Follower_friend']=df['Follower_friend'].replace(np.nan, 0)\n",
    "    df['Follower_friend']=(df['Follower_friend']-df['Follower_friend'].mean())/df['Follower_friend'].std()\n",
    "\n",
    "# def length(df):\n",
    "#     df['length']=0\n",
    "#     df['length'].loc[df['text'].str.len()<45] = 1\n",
    "    \n",
    "#     df['length'].loc[(df['text'].str.len()>=45)&(df['text'].str.len()<=80)] = 2\n",
    "    \n",
    "#     df['length'].loc[df['text'].str.len()>80] = 3\n",
    "\n",
    "\n",
    "### A toturial in Kaggle: https://www.kaggle.com/code/houssemayed/lstm-models-for-regression-on-text-data/notebook\n",
    "def read_corpus(fname, tokens_only=False):\n",
    "    with smart_open.smart_open(fname, encoding=\"iso-8859-1\") as f:\n",
    "        for i, line in enumerate(f):\n",
    "            if tokens_only:\n",
    "                yield gensim.utils.simple_preprocess(line)\n",
    "            else:\n",
    "                # For training data, add tags\n",
    "                if i==0:\n",
    "                    pass\n",
    "                else:\n",
    "                    yield gensim.models.doc2vec.TaggedDocument(gensim.utils.simple_preprocess(line)[1:], \n",
    "                                                                                 gensim.utils.simple_preprocess(line)[0]) # tag is first item, the rest is text\n",
    "                                                           \n",
    "##A tutorial in stackoverflow:https://stackoverflow.com/questions/56681210/convert-a-column-in-a-dask-dataframe-to-a-taggeddocument-for-doc2vec\n",
    "def tag_corp(corp,tag):\n",
    "    return gensim.models.doc2vec.TaggedDocument(gensim.utils.simple_preprocess(corp), ([tag]))\n",
    "\n"
   ]
  },
  {
   "cell_type": "markdown",
   "id": "ac2ee2ea",
   "metadata": {
    "ExecuteTime": {
     "end_time": "2022-12-07T09:11:41.605681Z",
     "start_time": "2022-12-07T09:11:41.598710Z"
    }
   },
   "source": [
    "### processing the data set with the functions that we defined previously"
   ]
  },
  {
   "cell_type": "code",
   "execution_count": 4,
   "id": "1147c597",
   "metadata": {
    "ExecuteTime": {
     "end_time": "2022-12-07T12:27:28.556142Z",
     "start_time": "2022-12-07T12:27:27.205284Z"
    }
   },
   "outputs": [],
   "source": [
    "\n",
    "timestamp_process(train_data)\n",
    "train_data=one_hot_coding_week(train_data)\n",
    "catagorized_hour(train_data)\n",
    "catagorized_length(train_data)\n",
    "has_hashtag_mention_urls(train_data)\n",
    "Follower_friend(train_data)\n",
    "# length(train_data)"
   ]
  },
  {
   "cell_type": "code",
   "execution_count": 5,
   "id": "f20e4250",
   "metadata": {
    "ExecuteTime": {
     "end_time": "2022-12-07T12:27:30.564232Z",
     "start_time": "2022-12-07T12:27:30.546290Z"
    }
   },
   "outputs": [
    {
     "data": {
      "text/html": [
       "<div>\n",
       "<style scoped>\n",
       "    .dataframe tbody tr th:only-of-type {\n",
       "        vertical-align: middle;\n",
       "    }\n",
       "\n",
       "    .dataframe tbody tr th {\n",
       "        vertical-align: top;\n",
       "    }\n",
       "\n",
       "    .dataframe thead th {\n",
       "        text-align: right;\n",
       "    }\n",
       "</style>\n",
       "<table border=\"1\" class=\"dataframe\">\n",
       "  <thead>\n",
       "    <tr style=\"text-align: right;\">\n",
       "      <th></th>\n",
       "      <th>text</th>\n",
       "      <th>retweets_count</th>\n",
       "      <th>favorites_count</th>\n",
       "      <th>followers_count</th>\n",
       "      <th>statuses_count</th>\n",
       "      <th>friends_count</th>\n",
       "      <th>mentions</th>\n",
       "      <th>urls</th>\n",
       "      <th>verified</th>\n",
       "      <th>hashtags</th>\n",
       "      <th>...</th>\n",
       "      <th>Sunday</th>\n",
       "      <th>day_hour</th>\n",
       "      <th>night_hour</th>\n",
       "      <th>short</th>\n",
       "      <th>medium</th>\n",
       "      <th>long</th>\n",
       "      <th>has_url</th>\n",
       "      <th>has_mention</th>\n",
       "      <th>has_hashtag</th>\n",
       "      <th>Follower_friend</th>\n",
       "    </tr>\n",
       "  </thead>\n",
       "  <tbody>\n",
       "    <tr>\n",
       "      <th>0</th>\n",
       "      <td>rt refarcir macron ans nom prépare</td>\n",
       "      <td>3</td>\n",
       "      <td>0</td>\n",
       "      <td>3682</td>\n",
       "      <td>453535</td>\n",
       "      <td>3628</td>\n",
       "      <td>[]</td>\n",
       "      <td>[]</td>\n",
       "      <td>0</td>\n",
       "      <td>[]</td>\n",
       "      <td>...</td>\n",
       "      <td>0</td>\n",
       "      <td>0</td>\n",
       "      <td>1</td>\n",
       "      <td>1</td>\n",
       "      <td>0</td>\n",
       "      <td>0</td>\n",
       "      <td>0</td>\n",
       "      <td>0</td>\n",
       "      <td>0</td>\n",
       "      <td>-0.021331</td>\n",
       "    </tr>\n",
       "    <tr>\n",
       "      <th>1</th>\n",
       "      <td>populaire</td>\n",
       "      <td>0</td>\n",
       "      <td>0</td>\n",
       "      <td>86</td>\n",
       "      <td>1016</td>\n",
       "      <td>284</td>\n",
       "      <td>[]</td>\n",
       "      <td>[]</td>\n",
       "      <td>0</td>\n",
       "      <td>[]</td>\n",
       "      <td>...</td>\n",
       "      <td>0</td>\n",
       "      <td>1</td>\n",
       "      <td>0</td>\n",
       "      <td>1</td>\n",
       "      <td>0</td>\n",
       "      <td>0</td>\n",
       "      <td>0</td>\n",
       "      <td>0</td>\n",
       "      <td>0</td>\n",
       "      <td>-0.021456</td>\n",
       "    </tr>\n",
       "    <tr>\n",
       "      <th>2</th>\n",
       "      <td>faut dégager cinglé</td>\n",
       "      <td>3</td>\n",
       "      <td>1</td>\n",
       "      <td>1944</td>\n",
       "      <td>28234</td>\n",
       "      <td>1995</td>\n",
       "      <td>[]</td>\n",
       "      <td>[]</td>\n",
       "      <td>0</td>\n",
       "      <td>[]</td>\n",
       "      <td>...</td>\n",
       "      <td>0</td>\n",
       "      <td>1</td>\n",
       "      <td>0</td>\n",
       "      <td>1</td>\n",
       "      <td>0</td>\n",
       "      <td>0</td>\n",
       "      <td>0</td>\n",
       "      <td>0</td>\n",
       "      <td>0</td>\n",
       "      <td>-0.021339</td>\n",
       "    </tr>\n",
       "    <tr>\n",
       "      <th>3</th>\n",
       "      <td>enseignants mettre prescriptions président rép...</td>\n",
       "      <td>0</td>\n",
       "      <td>0</td>\n",
       "      <td>1</td>\n",
       "      <td>1072</td>\n",
       "      <td>0</td>\n",
       "      <td>[]</td>\n",
       "      <td>['https://t.co/rytlted08g']</td>\n",
       "      <td>0</td>\n",
       "      <td>[]</td>\n",
       "      <td>...</td>\n",
       "      <td>0</td>\n",
       "      <td>1</td>\n",
       "      <td>0</td>\n",
       "      <td>0</td>\n",
       "      <td>0</td>\n",
       "      <td>1</td>\n",
       "      <td>1</td>\n",
       "      <td>0</td>\n",
       "      <td>0</td>\n",
       "      <td>-0.021510</td>\n",
       "    </tr>\n",
       "    <tr>\n",
       "      <th>4</th>\n",
       "      <td>mafieuse oppressive macron</td>\n",
       "      <td>0</td>\n",
       "      <td>0</td>\n",
       "      <td>13957</td>\n",
       "      <td>25311</td>\n",
       "      <td>10841</td>\n",
       "      <td>[]</td>\n",
       "      <td>[]</td>\n",
       "      <td>0</td>\n",
       "      <td>[]</td>\n",
       "      <td>...</td>\n",
       "      <td>0</td>\n",
       "      <td>1</td>\n",
       "      <td>0</td>\n",
       "      <td>1</td>\n",
       "      <td>0</td>\n",
       "      <td>0</td>\n",
       "      <td>0</td>\n",
       "      <td>0</td>\n",
       "      <td>0</td>\n",
       "      <td>-0.021284</td>\n",
       "    </tr>\n",
       "  </tbody>\n",
       "</table>\n",
       "<p>5 rows × 33 columns</p>\n",
       "</div>"
      ],
      "text/plain": [
       "                                                text  retweets_count  \\\n",
       "0                 rt refarcir macron ans nom prépare               3   \n",
       "1                                          populaire               0   \n",
       "2                                faut dégager cinglé               3   \n",
       "3  enseignants mettre prescriptions président rép...               0   \n",
       "4                         mafieuse oppressive macron               0   \n",
       "\n",
       "   favorites_count  followers_count  statuses_count  friends_count mentions  \\\n",
       "0                0             3682          453535           3628       []   \n",
       "1                0               86            1016            284       []   \n",
       "2                1             1944           28234           1995       []   \n",
       "3                0                1            1072              0       []   \n",
       "4                0            13957           25311          10841       []   \n",
       "\n",
       "                          urls  verified hashtags  ...  Sunday  day_hour  \\\n",
       "0                           []         0       []  ...       0         0   \n",
       "1                           []         0       []  ...       0         1   \n",
       "2                           []         0       []  ...       0         1   \n",
       "3  ['https://t.co/rytlted08g']         0       []  ...       0         1   \n",
       "4                           []         0       []  ...       0         1   \n",
       "\n",
       "  night_hour  short  medium  long  has_url  has_mention  has_hashtag  \\\n",
       "0          1      1       0     0        0            0            0   \n",
       "1          0      1       0     0        0            0            0   \n",
       "2          0      1       0     0        0            0            0   \n",
       "3          0      0       0     1        1            0            0   \n",
       "4          0      1       0     0        0            0            0   \n",
       "\n",
       "   Follower_friend  \n",
       "0        -0.021331  \n",
       "1        -0.021456  \n",
       "2        -0.021339  \n",
       "3        -0.021510  \n",
       "4        -0.021284  \n",
       "\n",
       "[5 rows x 33 columns]"
      ]
     },
     "execution_count": 5,
     "metadata": {},
     "output_type": "execute_result"
    }
   ],
   "source": [
    "train_data.head(5)"
   ]
  },
  {
   "cell_type": "code",
   "execution_count": 6,
   "id": "92c91d56",
   "metadata": {
    "ExecuteTime": {
     "end_time": "2022-12-07T12:27:36.525873Z",
     "start_time": "2022-12-07T12:27:35.938405Z"
    }
   },
   "outputs": [
    {
     "name": "stdout",
     "output_type": "stream",
     "text": [
      "Empty DataFrame\n",
      "Columns: [text, retweets_count, favorites_count, followers_count, statuses_count, friends_count, mentions, urls, verified, hashtags, timestamp, TweetID, time_date, day, month, hour, day_of_week, Monday, Tuesday, Wednesday, Thursday, Friday, Saturday, Sunday, day_hour, night_hour, short, medium, long, has_url, has_mention, has_hashtag, Follower_friend]\n",
      "Index: []\n",
      "\n",
      "[0 rows x 33 columns]\n",
      "data rows : 353969 | columns : 33\n",
      "The percentage of empty values\n",
      "text               0.0\n",
      "retweets_count     0.0\n",
      "favorites_count    0.0\n",
      "followers_count    0.0\n",
      "statuses_count     0.0\n",
      "friends_count      0.0\n",
      "mentions           0.0\n",
      "urls               0.0\n",
      "verified           0.0\n",
      "hashtags           0.0\n",
      "timestamp          0.0\n",
      "TweetID            0.0\n",
      "time_date          0.0\n",
      "day                0.0\n",
      "month              0.0\n",
      "hour               0.0\n",
      "day_of_week        0.0\n",
      "Monday             0.0\n",
      "Tuesday            0.0\n",
      "Wednesday          0.0\n",
      "Thursday           0.0\n",
      "Friday             0.0\n",
      "Saturday           0.0\n",
      "Sunday             0.0\n",
      "day_hour           0.0\n",
      "night_hour         0.0\n",
      "short              0.0\n",
      "medium             0.0\n",
      "long               0.0\n",
      "has_url            0.0\n",
      "has_mention        0.0\n",
      "has_hashtag        0.0\n",
      "Follower_friend    0.0\n",
      "dtype: float64\n"
     ]
    }
   ],
   "source": [
    "check_duplicated(train_data)\n",
    "### so there isn't any duplicated data\n",
    "check_missing_value(train_data)\n",
    "## So there isn't any missing values"
   ]
  },
  {
   "cell_type": "markdown",
   "id": "0688769b",
   "metadata": {},
   "source": [
    "## Feature selection"
   ]
  },
  {
   "cell_type": "code",
   "execution_count": 7,
   "id": "d3af82c1",
   "metadata": {
    "ExecuteTime": {
     "end_time": "2022-12-07T12:27:39.855776Z",
     "start_time": "2022-12-07T12:27:39.594334Z"
    }
   },
   "outputs": [
    {
     "data": {
      "text/plain": [
       "Text(0, 0.5, 'Retweet number')"
      ]
     },
     "execution_count": 7,
     "metadata": {},
     "output_type": "execute_result"
    },
    {
     "data": {
      "image/png": "[encoded data removed]",
      "text/plain": [
       "<Figure size 432x288 with 1 Axes>"
      ]
     },
     "metadata": {
      "needs_background": "light"
     },
     "output_type": "display_data"
    },
    {
     "data": {
      "image/png": "[encoded data removed]",
      "text/plain": [
       "<Figure size 432x288 with 1 Axes>"
      ]
     },
     "metadata": {
      "needs_background": "light"
     },
     "output_type": "display_data"
    }
   ],
   "source": [
    "## we want to study the relation between time and number of retweet \n",
    "no_of_retweets_week = train_data.groupby('day_of_week', as_index=False)['retweets_count'].sum()\n",
    "no_of_retweets_hour = train_data.groupby('hour', as_index=False)['retweets_count'].sum()\n",
    "no_of_retweets_month = train_data.groupby('month', as_index=False)['retweets_count'].sum()\n",
    "no_of_retweets_day = train_data.groupby('day', as_index=False)['retweets_count'].sum()\n",
    "\n",
    "# no_of_retweets_week\n",
    "# no_of_retweets_hour\n",
    "\n",
    "ax1 = no_of_retweets_week.plot.bar(x='day_of_week', y='retweets_count', rot=0)\n",
    "ax1.set_title('Number of retweets by day of week')\n",
    "plt.ylabel(\"Retweet number\")\n",
    "\n",
    "ax2 =no_of_retweets_hour.plot.bar(x='hour', y='retweets_count', rot=0)\n",
    "ax2.set_title('Number of retweets by hour')\n",
    "plt.ylabel(\"Retweet number\")\n",
    "\n",
    "## The number of retweets varies in each day of the week , and in different hour\n",
    "## More retweets from 6 AM to 21 PM, Less retweets from 22 PM to 5 AM\n",
    "## So we are going to creat catagorized features : Monday to Sunday, day hour and night hour"
   ]
  },
  {
   "cell_type": "code",
   "execution_count": 8,
   "id": "afbd5fc6",
   "metadata": {
    "ExecuteTime": {
     "end_time": "2022-12-07T12:27:42.756313Z",
     "start_time": "2022-12-07T12:27:42.532211Z"
    }
   },
   "outputs": [
    {
     "data": {
      "text/plain": [
       "Text(0, 0.5, 'Cumulative distribution probability')"
      ]
     },
     "execution_count": 8,
     "metadata": {},
     "output_type": "execute_result"
    },
    {
     "data": {
      "image/png": "[encoded data removed]",
      "text/plain": [
       "<Figure size 432x288 with 1 Axes>"
      ]
     },
     "metadata": {
      "needs_background": "light"
     },
     "output_type": "display_data"
    }
   ],
   "source": [
    "ax3=train_data['text'].str.len().hist(cumulative=True, density=1, bins=100)\n",
    "ax3.set_title('Cumulative distribution probability of the length of twetter texts')\n",
    "plt.xlabel(\"Length of text\")\n",
    "plt.ylabel(\"Cumulative distribution probability\")\n",
    "## from the cumulative distribution probability of the length of twetter text, \n",
    "## 1/3 of their length is (0,45)\n",
    "## 1/3 of their length is (45,80)\n",
    "## 1/3 of their length is (80,250+)\n",
    "## we can catagorized the texts as three catagories :\"short\",\"medium\",\"long\" [ref: RETWEET PREDICTIVE MODEL IN TWITTER:  Chapiter 5]"
   ]
  },
  {
   "cell_type": "code",
   "execution_count": 9,
   "id": "9db52275",
   "metadata": {
    "ExecuteTime": {
     "end_time": "2022-12-07T12:27:45.708378Z",
     "start_time": "2022-12-07T12:27:45.698148Z"
    }
   },
   "outputs": [
    {
     "name": "stdout",
     "output_type": "stream",
     "text": [
      "the number of short text is:  117754 \n",
      " the number of medium text is:  113738 \n",
      " the number of long text is:  122477 \n",
      "\n"
     ]
    }
   ],
   "source": [
    "n_short = train_data['short'].sum()\n",
    "n_medium =  train_data['medium'].sum()\n",
    "n_long =  train_data['long'].sum()\n",
    "print(\"the number of short text is: \",n_short,\"\\n\", \n",
    "      \"the number of medium text is: \",n_medium,\"\\n\", \n",
    "      \"the number of long text is: \",n_long,\"\\n\")\n",
    "\n",
    "### The number of retweets are evenly distributed in three catogories"
   ]
  },
  {
   "cell_type": "code",
   "execution_count": 10,
   "id": "63126e78",
   "metadata": {
    "ExecuteTime": {
     "end_time": "2022-12-07T12:27:49.599869Z",
     "start_time": "2022-12-07T12:27:49.593889Z"
    }
   },
   "outputs": [],
   "source": [
    "features_corr = [\n",
    "#    'text',\n",
    "    'retweets_count',\n",
    "    'favorites_count',\n",
    "    'followers_count',\n",
    "    'statuses_count',\n",
    "    'friends_count',\n",
    "    #'mentions',\n",
    "    #'urls',\n",
    "    'verified',\n",
    "    #'hashtags',\n",
    "#     'timestamp',\n",
    "#     'TweetID',\n",
    "#     'time_date',\n",
    "#     'day',\n",
    "#     'month',\n",
    "#     'hour',\n",
    "#     'day_of_week',\n",
    "    'Monday',\n",
    "    'Tuesday',\n",
    "    'Wednesday',\n",
    "    'Thursday',\n",
    "    'Friday',\n",
    "    'Saturday',\n",
    "    'Sunday',\n",
    "    'day_hour',\n",
    "    'night_hour',\n",
    "    'short',\n",
    "    'medium',\n",
    "    'long',\n",
    "    'has_url',\n",
    "#     'has_mention',\n",
    "    'has_hashtag',\n",
    "    'Follower_friend',\n",
    "]\n",
    "\n",
    "target = \"retweets_count\""
   ]
  },
  {
   "cell_type": "code",
   "execution_count": 11,
   "id": "6b25dfcd",
   "metadata": {
    "ExecuteTime": {
     "end_time": "2022-12-07T12:27:55.401169Z",
     "start_time": "2022-12-07T12:27:54.005574Z"
    }
   },
   "outputs": [
    {
     "data": {
      "image/png": "[encoded data removed]",
      "text/plain": [
       "<Figure size 1584x1584 with 2 Axes>"
      ]
     },
     "metadata": {
      "needs_background": "light"
     },
     "output_type": "display_data"
    }
   ],
   "source": [
    "## Plot the correlation between features using correlation matrice\n",
    "cor = train_data[features_corr].corr()\n",
    "plt.figure(figsize=(22,22))\n",
    "sns.heatmap(cor, cmap=plt.cm.CMRmap_r,annot=True)\n",
    "plt.show()"
   ]
  },
  {
   "cell_type": "code",
   "execution_count": 12,
   "id": "88052bdc",
   "metadata": {
    "ExecuteTime": {
     "end_time": "2022-12-07T12:28:00.641232Z",
     "start_time": "2022-12-07T12:27:59.458782Z"
    }
   },
   "outputs": [
    {
     "name": "stdout",
     "output_type": "stream",
     "text": [
      "[0.17906804 0.18521843 0.16323274 0.18403769 0.00767861 0.01059635\n",
      " 0.00924945 0.00851902 0.01250829 0.01292833 0.01027502 0.00784574\n",
      " 0.00762244 0.00766544 0.00395701 0.00446378 0.00530886 0.01082512\n",
      " 0.01276055 0.15623909]\n"
     ]
    },
    {
     "data": {
      "image/png": "[encoded data removed]",
      "text/plain": [
       "<Figure size 432x288 with 1 Axes>"
      ]
     },
     "metadata": {
      "needs_background": "light"
     },
     "output_type": "display_data"
    }
   ],
   "source": [
    "## evaluate feature importance\n",
    "X = train_data[features_corr]\n",
    "X = X.drop('retweets_count', axis=1)\n",
    "y = train_data['retweets_count'] \n",
    "X=X.iloc[0:5000]\n",
    "y=y.iloc[0:5000]\n",
    "model = ExtraTreesClassifier()\n",
    "model.fit(X,y)\n",
    "print(model.feature_importances_) #use inbuilt class feature_importances of tree based classifiers\n",
    "#plot graph of feature importances for better visualization\n",
    "feat_importances = pd.Series(model.feature_importances_, index=X.columns)\n",
    "feat_importances.nlargest(3).plot(kind='barh',color='green')\n",
    "plt.show()"
   ]
  },
  {
   "cell_type": "markdown",
   "id": "1c8f75fa",
   "metadata": {},
   "source": [
    "#### Judging from the correlation matrics and feature importance, we selected the following features：'text',  'favorites_count', 'followers_count', 'friends_count', 'verified', 'long'"
   ]
  },
  {
   "cell_type": "code",
   "execution_count": 13,
   "id": "d7162f73",
   "metadata": {
    "ExecuteTime": {
     "end_time": "2022-12-07T12:28:03.659593Z",
     "start_time": "2022-12-07T12:28:03.645640Z"
    }
   },
   "outputs": [],
   "source": [
    "\n",
    "f_select = [\n",
    "   'text',\n",
    "#    'retweets_count',\n",
    "    'favorites_count',\n",
    "    'followers_count',\n",
    "    'friends_count',\n",
    "    'verified',\n",
    "    'long'\n",
    "]\n",
    "\n",
    "target = \"retweets_count\""
   ]
  },
  {
   "cell_type": "markdown",
   "id": "4c042672",
   "metadata": {},
   "source": [
    "## Training Model"
   ]
  },
  {
   "cell_type": "code",
   "execution_count": 14,
   "id": "206845cc",
   "metadata": {
    "ExecuteTime": {
     "end_time": "2022-12-07T12:28:07.871114Z",
     "start_time": "2022-12-07T12:28:07.285512Z"
    }
   },
   "outputs": [
    {
     "data": {
      "text/html": [
       "<div>\n",
       "<style scoped>\n",
       "    .dataframe tbody tr th:only-of-type {\n",
       "        vertical-align: middle;\n",
       "    }\n",
       "\n",
       "    .dataframe tbody tr th {\n",
       "        vertical-align: top;\n",
       "    }\n",
       "\n",
       "    .dataframe thead th {\n",
       "        text-align: right;\n",
       "    }\n",
       "</style>\n",
       "<table border=\"1\" class=\"dataframe\">\n",
       "  <thead>\n",
       "    <tr style=\"text-align: right;\">\n",
       "      <th></th>\n",
       "      <th>text</th>\n",
       "      <th>retweets_count</th>\n",
       "      <th>favorites_count</th>\n",
       "      <th>followers_count</th>\n",
       "      <th>statuses_count</th>\n",
       "      <th>friends_count</th>\n",
       "      <th>mentions</th>\n",
       "      <th>urls</th>\n",
       "      <th>verified</th>\n",
       "      <th>hashtags</th>\n",
       "      <th>...</th>\n",
       "      <th>Sunday</th>\n",
       "      <th>day_hour</th>\n",
       "      <th>night_hour</th>\n",
       "      <th>short</th>\n",
       "      <th>medium</th>\n",
       "      <th>long</th>\n",
       "      <th>has_url</th>\n",
       "      <th>has_mention</th>\n",
       "      <th>has_hashtag</th>\n",
       "      <th>Follower_friend</th>\n",
       "    </tr>\n",
       "  </thead>\n",
       "  <tbody>\n",
       "    <tr>\n",
       "      <th>134757</th>\n",
       "      <td>fière insoumise fière jean luc melenchon avril...</td>\n",
       "      <td>15</td>\n",
       "      <td>88</td>\n",
       "      <td>3723</td>\n",
       "      <td>128299</td>\n",
       "      <td>4843</td>\n",
       "      <td>[]</td>\n",
       "      <td>['https://t.co/qwn6ggwtgs']</td>\n",
       "      <td>0</td>\n",
       "      <td>[]</td>\n",
       "      <td>...</td>\n",
       "      <td>0</td>\n",
       "      <td>1</td>\n",
       "      <td>0</td>\n",
       "      <td>0</td>\n",
       "      <td>0</td>\n",
       "      <td>1</td>\n",
       "      <td>1</td>\n",
       "      <td>0</td>\n",
       "      <td>0</td>\n",
       "      <td>-0.021375</td>\n",
       "    </tr>\n",
       "    <tr>\n",
       "      <th>111796</th>\n",
       "      <td>macron arrêter condamner prison justice pareil...</td>\n",
       "      <td>0</td>\n",
       "      <td>0</td>\n",
       "      <td>0</td>\n",
       "      <td>423</td>\n",
       "      <td>39</td>\n",
       "      <td>[]</td>\n",
       "      <td>[]</td>\n",
       "      <td>0</td>\n",
       "      <td>[]</td>\n",
       "      <td>...</td>\n",
       "      <td>0</td>\n",
       "      <td>1</td>\n",
       "      <td>0</td>\n",
       "      <td>0</td>\n",
       "      <td>1</td>\n",
       "      <td>0</td>\n",
       "      <td>0</td>\n",
       "      <td>0</td>\n",
       "      <td>0</td>\n",
       "      <td>-0.021510</td>\n",
       "    </tr>\n",
       "    <tr>\n",
       "      <th>314</th>\n",
       "      <td>éric zemmour message femmes écoute message fem...</td>\n",
       "      <td>2</td>\n",
       "      <td>0</td>\n",
       "      <td>2276</td>\n",
       "      <td>99602</td>\n",
       "      <td>2136</td>\n",
       "      <td>[]</td>\n",
       "      <td>['https://t.co/9tzkl28bxo', 'https://t.co/zhdv...</td>\n",
       "      <td>0</td>\n",
       "      <td>[]</td>\n",
       "      <td>...</td>\n",
       "      <td>0</td>\n",
       "      <td>1</td>\n",
       "      <td>0</td>\n",
       "      <td>0</td>\n",
       "      <td>0</td>\n",
       "      <td>1</td>\n",
       "      <td>1</td>\n",
       "      <td>0</td>\n",
       "      <td>0</td>\n",
       "      <td>-0.021323</td>\n",
       "    </tr>\n",
       "    <tr>\n",
       "      <th>116119</th>\n",
       "      <td>travail jamais renoncer défendre démocratie</td>\n",
       "      <td>0</td>\n",
       "      <td>0</td>\n",
       "      <td>76</td>\n",
       "      <td>332</td>\n",
       "      <td>309</td>\n",
       "      <td>[]</td>\n",
       "      <td>[]</td>\n",
       "      <td>0</td>\n",
       "      <td>[]</td>\n",
       "      <td>...</td>\n",
       "      <td>0</td>\n",
       "      <td>1</td>\n",
       "      <td>0</td>\n",
       "      <td>1</td>\n",
       "      <td>0</td>\n",
       "      <td>0</td>\n",
       "      <td>0</td>\n",
       "      <td>0</td>\n",
       "      <td>0</td>\n",
       "      <td>-0.021466</td>\n",
       "    </tr>\n",
       "    <tr>\n",
       "      <th>185379</th>\n",
       "      <td>moment garde gauche serre main flagrant</td>\n",
       "      <td>0</td>\n",
       "      <td>0</td>\n",
       "      <td>503</td>\n",
       "      <td>8971</td>\n",
       "      <td>1772</td>\n",
       "      <td>[]</td>\n",
       "      <td>[]</td>\n",
       "      <td>0</td>\n",
       "      <td>[]</td>\n",
       "      <td>...</td>\n",
       "      <td>0</td>\n",
       "      <td>1</td>\n",
       "      <td>0</td>\n",
       "      <td>1</td>\n",
       "      <td>0</td>\n",
       "      <td>0</td>\n",
       "      <td>0</td>\n",
       "      <td>0</td>\n",
       "      <td>0</td>\n",
       "      <td>-0.021460</td>\n",
       "    </tr>\n",
       "  </tbody>\n",
       "</table>\n",
       "<p>5 rows × 33 columns</p>\n",
       "</div>"
      ],
      "text/plain": [
       "                                                     text  retweets_count  \\\n",
       "134757  fière insoumise fière jean luc melenchon avril...              15   \n",
       "111796  macron arrêter condamner prison justice pareil...               0   \n",
       "314     éric zemmour message femmes écoute message fem...               2   \n",
       "116119        travail jamais renoncer défendre démocratie               0   \n",
       "185379            moment garde gauche serre main flagrant               0   \n",
       "\n",
       "        favorites_count  followers_count  statuses_count  friends_count  \\\n",
       "134757               88             3723          128299           4843   \n",
       "111796                0                0             423             39   \n",
       "314                   0             2276           99602           2136   \n",
       "116119                0               76             332            309   \n",
       "185379                0              503            8971           1772   \n",
       "\n",
       "       mentions                                               urls  verified  \\\n",
       "134757       []                        ['https://t.co/qwn6ggwtgs']         0   \n",
       "111796       []                                                 []         0   \n",
       "314          []  ['https://t.co/9tzkl28bxo', 'https://t.co/zhdv...         0   \n",
       "116119       []                                                 []         0   \n",
       "185379       []                                                 []         0   \n",
       "\n",
       "       hashtags  ...  Sunday  day_hour night_hour  short  medium  long  \\\n",
       "134757       []  ...       0         1          0      0       0     1   \n",
       "111796       []  ...       0         1          0      0       1     0   \n",
       "314          []  ...       0         1          0      0       0     1   \n",
       "116119       []  ...       0         1          0      1       0     0   \n",
       "185379       []  ...       0         1          0      1       0     0   \n",
       "\n",
       "        has_url  has_mention  has_hashtag  Follower_friend  \n",
       "134757        1            0            0        -0.021375  \n",
       "111796        0            0            0        -0.021510  \n",
       "314           1            0            0        -0.021323  \n",
       "116119        0            0            0        -0.021466  \n",
       "185379        0            0            0        -0.021460  \n",
       "\n",
       "[5 rows x 33 columns]"
      ]
     },
     "execution_count": 14,
     "metadata": {},
     "output_type": "execute_result"
    }
   ],
   "source": [
    "## Slpit dataset\n",
    "\n",
    "\n",
    "X_train, X_test, y_train, y_test = scsplit(train_data, train_data['retweets_count'], stratify=train_data['retweets_count'], train_size=0.7, test_size=0.3)\n",
    "X_train.head(5)"
   ]
  },
  {
   "cell_type": "code",
   "execution_count": 15,
   "id": "b1ec323f",
   "metadata": {
    "ExecuteTime": {
     "end_time": "2022-12-07T12:28:12.920672Z",
     "start_time": "2022-12-07T12:28:12.890007Z"
    }
   },
   "outputs": [],
   "source": [
    "\n",
    "X_train = X_train[f_select]\n",
    "X_test = X_test[f_select]\n",
    "\n",
    "\n",
    "X_train=X_train.reset_index(drop=True)\n",
    "X_test=X_test.reset_index(drop=True)\n"
   ]
  },
  {
   "cell_type": "code",
   "execution_count": 130,
   "id": "924b508f",
   "metadata": {
    "ExecuteTime": {
     "end_time": "2022-12-07T11:40:13.536359Z",
     "start_time": "2022-12-07T11:40:13.527389Z"
    }
   },
   "outputs": [
    {
     "data": {
      "text/html": [
       "<div>\n",
       "<style scoped>\n",
       "    .dataframe tbody tr th:only-of-type {\n",
       "        vertical-align: middle;\n",
       "    }\n",
       "\n",
       "    .dataframe tbody tr th {\n",
       "        vertical-align: top;\n",
       "    }\n",
       "\n",
       "    .dataframe thead th {\n",
       "        text-align: right;\n",
       "    }\n",
       "</style>\n",
       "<table border=\"1\" class=\"dataframe\">\n",
       "  <thead>\n",
       "    <tr style=\"text-align: right;\">\n",
       "      <th></th>\n",
       "      <th>text</th>\n",
       "      <th>favorites_count</th>\n",
       "      <th>followers_count</th>\n",
       "      <th>friends_count</th>\n",
       "      <th>verified</th>\n",
       "      <th>long</th>\n",
       "    </tr>\n",
       "  </thead>\n",
       "  <tbody>\n",
       "    <tr>\n",
       "      <th>0</th>\n",
       "      <td>saviez déjà big oil mauvais famille rockefelle...</td>\n",
       "      <td>0</td>\n",
       "      <td>77</td>\n",
       "      <td>151</td>\n",
       "      <td>0</td>\n",
       "      <td>1</td>\n",
       "    </tr>\n",
       "    <tr>\n",
       "      <th>1</th>\n",
       "      <td>collage amiens</td>\n",
       "      <td>20</td>\n",
       "      <td>793</td>\n",
       "      <td>136</td>\n",
       "      <td>0</td>\n",
       "      <td>0</td>\n",
       "    </tr>\n",
       "    <tr>\n",
       "      <th>2</th>\n",
       "      <td>silence total merdias officiels botte macron c...</td>\n",
       "      <td>5</td>\n",
       "      <td>1829</td>\n",
       "      <td>1459</td>\n",
       "      <td>0</td>\n",
       "      <td>1</td>\n",
       "    </tr>\n",
       "    <tr>\n",
       "      <th>3</th>\n",
       "      <td>rt dernière abruti penser refuse débat</td>\n",
       "      <td>0</td>\n",
       "      <td>1316</td>\n",
       "      <td>1275</td>\n",
       "      <td>0</td>\n",
       "      <td>0</td>\n",
       "    </tr>\n",
       "    <tr>\n",
       "      <th>4</th>\n",
       "      <td>waaah macron remise centimes vient monter trip...</td>\n",
       "      <td>0</td>\n",
       "      <td>3</td>\n",
       "      <td>0</td>\n",
       "      <td>0</td>\n",
       "      <td>1</td>\n",
       "    </tr>\n",
       "    <tr>\n",
       "      <th>...</th>\n",
       "      <td>...</td>\n",
       "      <td>...</td>\n",
       "      <td>...</td>\n",
       "      <td>...</td>\n",
       "      <td>...</td>\n",
       "      <td>...</td>\n",
       "    </tr>\n",
       "    <tr>\n",
       "      <th>247773</th>\n",
       "      <td>oui chrétiens gauche</td>\n",
       "      <td>0</td>\n",
       "      <td>67</td>\n",
       "      <td>97</td>\n",
       "      <td>0</td>\n",
       "      <td>0</td>\n",
       "    </tr>\n",
       "    <tr>\n",
       "      <th>247774</th>\n",
       "      <td>technocrate bureaucrate idéologue éric zemmour...</td>\n",
       "      <td>17</td>\n",
       "      <td>8921</td>\n",
       "      <td>787</td>\n",
       "      <td>0</td>\n",
       "      <td>1</td>\n",
       "    </tr>\n",
       "    <tr>\n",
       "      <th>247775</th>\n",
       "      <td>gros twist partie raciste zemmour constitué ra...</td>\n",
       "      <td>0</td>\n",
       "      <td>109</td>\n",
       "      <td>168</td>\n",
       "      <td>0</td>\n",
       "      <td>0</td>\n",
       "    </tr>\n",
       "    <tr>\n",
       "      <th>247776</th>\n",
       "      <td>mal genou gauche suite traumatisme</td>\n",
       "      <td>0</td>\n",
       "      <td>8135</td>\n",
       "      <td>5460</td>\n",
       "      <td>0</td>\n",
       "      <td>0</td>\n",
       "    </tr>\n",
       "    <tr>\n",
       "      <th>247777</th>\n",
       "      <td>cas réélection emmanuel promet grand débat per...</td>\n",
       "      <td>1</td>\n",
       "      <td>1261</td>\n",
       "      <td>3949</td>\n",
       "      <td>0</td>\n",
       "      <td>0</td>\n",
       "    </tr>\n",
       "  </tbody>\n",
       "</table>\n",
       "<p>247778 rows × 6 columns</p>\n",
       "</div>"
      ],
      "text/plain": [
       "                                                     text  favorites_count  \\\n",
       "0       saviez déjà big oil mauvais famille rockefelle...                0   \n",
       "1                                          collage amiens               20   \n",
       "2       silence total merdias officiels botte macron c...                5   \n",
       "3                  rt dernière abruti penser refuse débat                0   \n",
       "4       waaah macron remise centimes vient monter trip...                0   \n",
       "...                                                   ...              ...   \n",
       "247773                               oui chrétiens gauche                0   \n",
       "247774  technocrate bureaucrate idéologue éric zemmour...               17   \n",
       "247775  gros twist partie raciste zemmour constitué ra...                0   \n",
       "247776                 mal genou gauche suite traumatisme                0   \n",
       "247777  cas réélection emmanuel promet grand débat per...                1   \n",
       "\n",
       "        followers_count  friends_count  verified  long  \n",
       "0                    77            151         0     1  \n",
       "1                   793            136         0     0  \n",
       "2                  1829           1459         0     1  \n",
       "3                  1316           1275         0     0  \n",
       "4                     3              0         0     1  \n",
       "...                 ...            ...       ...   ...  \n",
       "247773               67             97         0     0  \n",
       "247774             8921            787         0     1  \n",
       "247775              109            168         0     0  \n",
       "247776             8135           5460         0     0  \n",
       "247777             1261           3949         0     0  \n",
       "\n",
       "[247778 rows x 6 columns]"
      ]
     },
     "execution_count": 130,
     "metadata": {},
     "output_type": "execute_result"
    }
   ],
   "source": [
    "X_train"
   ]
  },
  {
   "cell_type": "code",
   "execution_count": 16,
   "id": "deb9d583",
   "metadata": {
    "ExecuteTime": {
     "end_time": "2022-12-07T12:28:56.023757Z",
     "start_time": "2022-12-07T12:28:56.006099Z"
    }
   },
   "outputs": [],
   "source": [
    "y_train_final=y_train.reset_index(drop=True)\n",
    "y_test_final=y_test.reset_index(drop=True)"
   ]
  },
  {
   "cell_type": "markdown",
   "id": "1343ee02",
   "metadata": {
    "ExecuteTime": {
     "end_time": "2022-12-07T09:30:59.748581Z",
     "start_time": "2022-12-07T09:30:59.732956Z"
    }
   },
   "source": [
    "### Word embbeding process"
   ]
  },
  {
   "cell_type": "code",
   "execution_count": 23,
   "id": "82c10aa0",
   "metadata": {
    "ExecuteTime": {
     "end_time": "2022-12-07T12:33:19.700026Z",
     "start_time": "2022-12-07T12:33:10.964335Z"
    }
   },
   "outputs": [],
   "source": [
    "tagged_document = [tag_corp(x,y) for x,y in list(zip(train_data['text'],train_data['retweets_count']))]\n",
    "train_corpus = [tag_corp(x,y) for x,y in list(zip(X_train['text'],y_train))]\n",
    "test_corpus = [tag_corp(x,y) for x,y in list(zip(X_test['text'],y_test))]"
   ]
  },
  {
   "cell_type": "code",
   "execution_count": 27,
   "id": "b7b168e6",
   "metadata": {
    "ExecuteTime": {
     "end_time": "2022-12-07T12:39:24.709270Z",
     "start_time": "2022-12-07T12:37:48.734380Z"
    }
   },
   "outputs": [],
   "source": [
    "\n",
    "\n",
    "model = gensim.models.doc2vec.Doc2Vec(tagged_document, vector_size=5, window=2, min_count=1, workers=4)"
   ]
  },
  {
   "cell_type": "code",
   "execution_count": 28,
   "id": "c1160f5f",
   "metadata": {
    "ExecuteTime": {
     "end_time": "2022-12-07T12:39:50.904031Z",
     "start_time": "2022-12-07T12:39:50.246919Z"
    }
   },
   "outputs": [],
   "source": [
    "fname = get_tmpfile(\"my_doc2vec_model\")\n",
    "\n",
    "model.save(fname)\n",
    "model = gensim.models.doc2vec.Doc2Vec.load(fname)"
   ]
  },
  {
   "cell_type": "code",
   "execution_count": 31,
   "id": "66c3ba78",
   "metadata": {
    "ExecuteTime": {
     "end_time": "2022-12-07T12:41:40.555181Z",
     "start_time": "2022-12-07T12:41:40.550199Z"
    }
   },
   "outputs": [],
   "source": [
    "# model.build_vocab(train_corpus) "
   ]
  },
  {
   "cell_type": "code",
   "execution_count": 30,
   "id": "737d9d4e",
   "metadata": {
    "ExecuteTime": {
     "end_time": "2022-12-07T12:41:26.633114Z",
     "start_time": "2022-12-07T12:40:21.312008Z"
    }
   },
   "outputs": [
    {
     "name": "stdout",
     "output_type": "stream",
     "text": [
      "CPU times: total: 1min 26s\n",
      "Wall time: 1min 5s\n"
     ]
    }
   ],
   "source": [
    "%time model.train(train_corpus, total_examples=model.corpus_count, epochs=model.epochs) # 20 mins?"
   ]
  },
  {
   "cell_type": "code",
   "execution_count": 32,
   "id": "1b64fd8a",
   "metadata": {
    "ExecuteTime": {
     "end_time": "2022-12-07T12:41:44.027874Z",
     "start_time": "2022-12-07T12:41:42.930176Z"
    }
   },
   "outputs": [],
   "source": [
    "train_targets, train_regressors = zip(*[(doc.words, doc.tags[0]) for doc in train_corpus])\n",
    "test_targets, test_regressors = zip(*[(doc.words, doc.tags[0]) for doc in test_corpus])"
   ]
  },
  {
   "cell_type": "code",
   "execution_count": 33,
   "id": "66fd44ac",
   "metadata": {
    "ExecuteTime": {
     "end_time": "2022-12-07T12:42:44.184049Z",
     "start_time": "2022-12-07T12:41:46.025833Z"
    }
   },
   "outputs": [
    {
     "data": {
      "text/plain": [
       "(247778, 5)"
      ]
     },
     "execution_count": 33,
     "metadata": {},
     "output_type": "execute_result"
    }
   ],
   "source": [
    "X = []\n",
    "for i in range(len(train_targets)):\n",
    "    X.append(model.infer_vector(train_targets[i]))\n",
    "train_x = np.asarray(X)\n",
    "train_x.shape"
   ]
  },
  {
   "cell_type": "code",
   "execution_count": 34,
   "id": "61d59315",
   "metadata": {
    "ExecuteTime": {
     "end_time": "2022-12-07T12:43:06.634401Z",
     "start_time": "2022-12-07T12:43:06.587308Z"
    }
   },
   "outputs": [
    {
     "data": {
      "text/plain": [
       "11.222267513661423"
      ]
     },
     "execution_count": 34,
     "metadata": {},
     "output_type": "execute_result"
    }
   ],
   "source": [
    "Y = np.asarray(train_regressors)\n",
    "from sklearn import preprocessing\n",
    "le = preprocessing.LabelEncoder()\n",
    "le.fit(Y)\n",
    "train_y = le.transform(Y)\n",
    "np.mean(train_y)"
   ]
  },
  {
   "cell_type": "code",
   "execution_count": 35,
   "id": "1359a454",
   "metadata": {
    "ExecuteTime": {
     "end_time": "2022-12-07T12:43:34.432270Z",
     "start_time": "2022-12-07T12:43:09.547879Z"
    }
   },
   "outputs": [],
   "source": [
    "test_list = []\n",
    "for i in range(len(test_targets)):\n",
    "    test_list.append(model.infer_vector(test_targets[i]))\n",
    "test_x = np.asarray(test_list)"
   ]
  },
  {
   "cell_type": "code",
   "execution_count": 36,
   "id": "69b53a09",
   "metadata": {
    "ExecuteTime": {
     "end_time": "2022-12-07T12:44:28.295747Z",
     "start_time": "2022-12-07T12:44:28.284782Z"
    }
   },
   "outputs": [
    {
     "data": {
      "text/plain": [
       "array([[-0.05931527, -0.10116872, -0.18100813, -0.00806033, -0.06990368],\n",
       "       [ 0.01558958, -0.28606808, -0.1560704 , -0.4371721 ,  0.04010632],\n",
       "       [-0.12858048, -0.12456408, -0.41990432, -0.52242345, -0.11776668],\n",
       "       ...,\n",
       "       [-0.24307403, -0.12214078,  0.03185515, -0.16242287, -0.22679782],\n",
       "       [-0.06643429, -0.14264514, -0.03656562, -0.1827537 , -0.10284788],\n",
       "       [-0.25850075, -0.38253218, -0.37566262, -0.57109666, -0.1437144 ]],\n",
       "      dtype=float32)"
      ]
     },
     "execution_count": 36,
     "metadata": {},
     "output_type": "execute_result"
    }
   ],
   "source": [
    "test_x"
   ]
  },
  {
   "cell_type": "code",
   "execution_count": 37,
   "id": "c895aab8",
   "metadata": {
    "ExecuteTime": {
     "end_time": "2022-12-07T12:44:29.320749Z",
     "start_time": "2022-12-07T12:44:29.306792Z"
    }
   },
   "outputs": [],
   "source": [
    "test_x = pd.DataFrame(test_x)\n",
    "train_x= pd.DataFrame(train_x)"
   ]
  },
  {
   "cell_type": "code",
   "execution_count": 38,
   "id": "a1da1291",
   "metadata": {
    "ExecuteTime": {
     "end_time": "2022-12-07T12:44:30.421593Z",
     "start_time": "2022-12-07T12:44:30.405969Z"
    }
   },
   "outputs": [
    {
     "data": {
      "text/html": [
       "<div>\n",
       "<style scoped>\n",
       "    .dataframe tbody tr th:only-of-type {\n",
       "        vertical-align: middle;\n",
       "    }\n",
       "\n",
       "    .dataframe tbody tr th {\n",
       "        vertical-align: top;\n",
       "    }\n",
       "\n",
       "    .dataframe thead th {\n",
       "        text-align: right;\n",
       "    }\n",
       "</style>\n",
       "<table border=\"1\" class=\"dataframe\">\n",
       "  <thead>\n",
       "    <tr style=\"text-align: right;\">\n",
       "      <th></th>\n",
       "      <th>0</th>\n",
       "      <th>1</th>\n",
       "      <th>2</th>\n",
       "      <th>3</th>\n",
       "      <th>4</th>\n",
       "    </tr>\n",
       "  </thead>\n",
       "  <tbody>\n",
       "    <tr>\n",
       "      <th>0</th>\n",
       "      <td>-0.059315</td>\n",
       "      <td>-0.101169</td>\n",
       "      <td>-0.181008</td>\n",
       "      <td>-0.008060</td>\n",
       "      <td>-0.069904</td>\n",
       "    </tr>\n",
       "    <tr>\n",
       "      <th>1</th>\n",
       "      <td>0.015590</td>\n",
       "      <td>-0.286068</td>\n",
       "      <td>-0.156070</td>\n",
       "      <td>-0.437172</td>\n",
       "      <td>0.040106</td>\n",
       "    </tr>\n",
       "    <tr>\n",
       "      <th>2</th>\n",
       "      <td>-0.128580</td>\n",
       "      <td>-0.124564</td>\n",
       "      <td>-0.419904</td>\n",
       "      <td>-0.522423</td>\n",
       "      <td>-0.117767</td>\n",
       "    </tr>\n",
       "    <tr>\n",
       "      <th>3</th>\n",
       "      <td>-0.126702</td>\n",
       "      <td>-0.038430</td>\n",
       "      <td>-0.137378</td>\n",
       "      <td>-0.252158</td>\n",
       "      <td>-0.134262</td>\n",
       "    </tr>\n",
       "    <tr>\n",
       "      <th>4</th>\n",
       "      <td>-0.039263</td>\n",
       "      <td>0.011846</td>\n",
       "      <td>0.027868</td>\n",
       "      <td>-0.146319</td>\n",
       "      <td>-0.103181</td>\n",
       "    </tr>\n",
       "    <tr>\n",
       "      <th>...</th>\n",
       "      <td>...</td>\n",
       "      <td>...</td>\n",
       "      <td>...</td>\n",
       "      <td>...</td>\n",
       "      <td>...</td>\n",
       "    </tr>\n",
       "    <tr>\n",
       "      <th>106186</th>\n",
       "      <td>-0.089412</td>\n",
       "      <td>0.063447</td>\n",
       "      <td>-0.202087</td>\n",
       "      <td>-0.132015</td>\n",
       "      <td>-0.158261</td>\n",
       "    </tr>\n",
       "    <tr>\n",
       "      <th>106187</th>\n",
       "      <td>-0.587622</td>\n",
       "      <td>-0.305038</td>\n",
       "      <td>-0.513097</td>\n",
       "      <td>-0.626966</td>\n",
       "      <td>-0.503057</td>\n",
       "    </tr>\n",
       "    <tr>\n",
       "      <th>106188</th>\n",
       "      <td>-0.243074</td>\n",
       "      <td>-0.122141</td>\n",
       "      <td>0.031855</td>\n",
       "      <td>-0.162423</td>\n",
       "      <td>-0.226798</td>\n",
       "    </tr>\n",
       "    <tr>\n",
       "      <th>106189</th>\n",
       "      <td>-0.066434</td>\n",
       "      <td>-0.142645</td>\n",
       "      <td>-0.036566</td>\n",
       "      <td>-0.182754</td>\n",
       "      <td>-0.102848</td>\n",
       "    </tr>\n",
       "    <tr>\n",
       "      <th>106190</th>\n",
       "      <td>-0.258501</td>\n",
       "      <td>-0.382532</td>\n",
       "      <td>-0.375663</td>\n",
       "      <td>-0.571097</td>\n",
       "      <td>-0.143714</td>\n",
       "    </tr>\n",
       "  </tbody>\n",
       "</table>\n",
       "<p>106191 rows × 5 columns</p>\n",
       "</div>"
      ],
      "text/plain": [
       "               0         1         2         3         4\n",
       "0      -0.059315 -0.101169 -0.181008 -0.008060 -0.069904\n",
       "1       0.015590 -0.286068 -0.156070 -0.437172  0.040106\n",
       "2      -0.128580 -0.124564 -0.419904 -0.522423 -0.117767\n",
       "3      -0.126702 -0.038430 -0.137378 -0.252158 -0.134262\n",
       "4      -0.039263  0.011846  0.027868 -0.146319 -0.103181\n",
       "...          ...       ...       ...       ...       ...\n",
       "106186 -0.089412  0.063447 -0.202087 -0.132015 -0.158261\n",
       "106187 -0.587622 -0.305038 -0.513097 -0.626966 -0.503057\n",
       "106188 -0.243074 -0.122141  0.031855 -0.162423 -0.226798\n",
       "106189 -0.066434 -0.142645 -0.036566 -0.182754 -0.102848\n",
       "106190 -0.258501 -0.382532 -0.375663 -0.571097 -0.143714\n",
       "\n",
       "[106191 rows x 5 columns]"
      ]
     },
     "execution_count": 38,
     "metadata": {},
     "output_type": "execute_result"
    }
   ],
   "source": [
    "test_x"
   ]
  },
  {
   "cell_type": "code",
   "execution_count": 39,
   "id": "17e3de9f",
   "metadata": {
    "ExecuteTime": {
     "end_time": "2022-12-07T12:44:31.732306Z",
     "start_time": "2022-12-07T12:44:31.706428Z"
    }
   },
   "outputs": [],
   "source": [
    "## We want to combien the word features with other features\n",
    "X_train_final = pd.concat([X_train.drop(['text'],axis=1),train_x],axis=1)\n",
    "X_test_final = pd.concat([X_test.drop(['text'],axis=1),test_x],axis=1)\n",
    "\n",
    "## USE X_train_final,y_train_final, X_test_final, y_test_final for trainning"
   ]
  },
  {
   "cell_type": "markdown",
   "id": "520d2abb",
   "metadata": {
    "ExecuteTime": {
     "end_time": "2022-12-07T12:45:40.468663Z",
     "start_time": "2022-12-07T12:45:40.456699Z"
    }
   },
   "source": [
    "## Trainning"
   ]
  },
  {
   "cell_type": "markdown",
   "id": "fd19542f",
   "metadata": {
    "ExecuteTime": {
     "end_time": "2022-12-07T12:46:00.023173Z",
     "start_time": "2022-12-07T12:46:00.012209Z"
    }
   },
   "source": [
    "## Gradiant boosting"
   ]
  },
  {
   "cell_type": "code",
   "execution_count": 44,
   "id": "8adda9ff",
   "metadata": {
    "ExecuteTime": {
     "end_time": "2022-12-07T12:47:12.847209Z",
     "start_time": "2022-12-07T12:46:23.831738Z"
    }
   },
   "outputs": [
    {
     "name": "stdout",
     "output_type": "stream",
     "text": [
      "Prediction error: 7.184488327636052\n"
     ]
    }
   ],
   "source": [
    "# Now we can train our model. Here we chose a Gradient Boosting Regressor and we set our loss function \n",
    "reg = GradientBoostingRegressor()#reg = RandomForestRegressor() #\n",
    "#reg = LinearRegression()\n",
    "# We fit our model using the training data\n",
    "reg.fit(X_train_final, y_train_final)\n",
    "# And then we predict the values for our testing set\n",
    "y_pred = reg.predict(X_test_final)\n",
    "# We want to make sure that all predictions are non-negative integers\n",
    "y_pred = [int(value) if value >= 0 else 0 for value in y_pred]\n",
    "\n",
    "print(\"Prediction error:\", mean_absolute_error(y_true=y_test_final, y_pred=y_pred))\n"
   ]
  },
  {
   "cell_type": "markdown",
   "id": "0b05b20d",
   "metadata": {
    "ExecuteTime": {
     "end_time": "2022-12-07T11:03:52.747029Z",
     "start_time": "2022-12-07T11:03:35.777626Z"
    }
   },
   "source": [
    "## linear regression"
   ]
  },
  {
   "cell_type": "code",
   "execution_count": 46,
   "id": "7bf1ddcd",
   "metadata": {
    "ExecuteTime": {
     "end_time": "2022-12-07T12:47:36.279379Z",
     "start_time": "2022-12-07T12:47:36.199639Z"
    }
   },
   "outputs": [
    {
     "name": "stdout",
     "output_type": "stream",
     "text": [
      "Prediction error for linear regression: 10.710728781158478\n"
     ]
    }
   ],
   "source": [
    "lin_reg = sklearn.linear_model.LinearRegression()\n",
    "lin_reg = lin_reg.fit(X_train_final, y_train_final)\n",
    "y_pred_lin_reg = lin_reg.predict(X_test_final)\n",
    "y_pred_lin_reg = [int(value) if value >= 0 else 0 for value in y_pred_lin_reg]\n",
    "print(\"Prediction error for linear regression:\", mean_absolute_error(y_true=y_test_final, y_pred=y_pred_lin_reg))"
   ]
  },
  {
   "cell_type": "markdown",
   "id": "f410f695",
   "metadata": {},
   "source": [
    "## Regression trees"
   ]
  },
  {
   "cell_type": "code",
   "execution_count": 47,
   "id": "18b10e8d",
   "metadata": {
    "ExecuteTime": {
     "end_time": "2022-12-07T12:47:53.472837Z",
     "start_time": "2022-12-07T12:47:52.248537Z"
    }
   },
   "outputs": [
    {
     "name": "stdout",
     "output_type": "stream",
     "text": [
      "Prediction error for regression tree: 7.70236649056888\n"
     ]
    }
   ],
   "source": [
    "model_tree = sklearn.tree.DecisionTreeRegressor(max_depth=8, random_state=0)\n",
    "model_tree = model_tree.fit(X_train_final, y_train_final)\n",
    "y_pred_tree = model_tree.predict(X_test_final)\n",
    "y_pred_tree = [int(value) if value >= 0 else 0 for value in y_pred_tree]\n",
    "print(\"Prediction error for regression tree:\", mean_absolute_error(y_true=y_test_final, y_pred=y_pred_tree))"
   ]
  },
  {
   "cell_type": "markdown",
   "id": "327154b0",
   "metadata": {},
   "source": [
    "### hyperparameter tuning"
   ]
  },
  {
   "cell_type": "code",
   "execution_count": 50,
   "id": "8d6b00c4",
   "metadata": {
    "ExecuteTime": {
     "end_time": "2022-12-07T12:51:09.044916Z",
     "start_time": "2022-12-07T12:51:09.014385Z"
    }
   },
   "outputs": [],
   "source": [
    "def plot_max_depth_influence(max_depth_ls, X_val, y_val, X_test, y_test):\n",
    "    \"\"\"Fit a Decision Tree with different maximum depths\n",
    "    and plot learning curve for train and test sets.\n",
    "    \"\"\"\n",
    "\n",
    "    mae_train = []\n",
    "    mae_test = []\n",
    "\n",
    "    # loop over different maximum depths\n",
    "    # and compute MAE\n",
    "    for max_depth in max_depth_ls:\n",
    "        print(f\"Fitting with max_depth = {max_depth}\")\n",
    "        model_tree = sklearn.tree.DecisionTreeRegressor(max_depth=max_depth)\n",
    "        model_tree = model_tree.fit(X_val, y_val)\n",
    "        y_pred_val = model_tree.predict(X_val)\n",
    "        y_pred_test = model_tree.predict(X_test)\n",
    "        mae_train.append(mean_absolute_error(y_val, y_pred_val))\n",
    "        mae_test.append(mean_absolute_error(y_test, y_pred_test))\n",
    "\n",
    "    fig, axes = plt.subplots(nrows=1, ncols=1, figsize=(16, 8))\n",
    "\n",
    "    # Plot learning curves\n",
    "    axes.plot(max_depth_ls, mae_train, color='red', label='Train')\n",
    "    axes.plot(max_depth_ls, mae_test, color='blue', label='Test')\n",
    "    axes.set_title('MAE regarding max_depth')\n",
    "    axes.legend()\n",
    "    plt.xlabel(\"max_depth\")\n",
    "    plt.ylabel(\"MAE\")\n",
    "    plt.grid()\n",
    "    fig.show()"
   ]
  },
  {
   "cell_type": "code",
   "execution_count": 51,
   "id": "ff113667",
   "metadata": {
    "ExecuteTime": {
     "end_time": "2022-12-07T12:51:33.985711Z",
     "start_time": "2022-12-07T12:51:24.434521Z"
    }
   },
   "outputs": [
    {
     "name": "stdout",
     "output_type": "stream",
     "text": [
      "Fitting with max_depth = 2\n",
      "Fitting with max_depth = 4\n",
      "Fitting with max_depth = 8\n",
      "Fitting with max_depth = 10\n",
      "Fitting with max_depth = 16\n",
      "Fitting with max_depth = 32\n"
     ]
    },
    {
     "data": {
      "image/png": "[encoded data removed]",
      "text/plain": [
       "<Figure size 1152x576 with 1 Axes>"
      ]
     },
     "metadata": {
      "needs_background": "light"
     },
     "output_type": "display_data"
    }
   ],
   "source": [
    "max_depth_ls = [2, 4, 8, 10,16, 32]\n",
    "plot_max_depth_influence(\n",
    "    max_depth_ls,\n",
    "    X_train_final, y_train_final,\n",
    "    X_test_final, y_test_final,\n",
    ")\n",
    "\n",
    "\n",
    "## We found that for max_depth >8 ,Trainning MAE decreasing while Testing MAE increasing, which might be an overfitting\n",
    "## so we need want to use max_depth = 8"
   ]
  },
  {
   "cell_type": "code",
   "execution_count": null,
   "id": "c11d0ab7",
   "metadata": {},
   "outputs": [],
   "source": []
  },
  {
   "cell_type": "markdown",
   "id": "914c017a",
   "metadata": {
    "ExecuteTime": {
     "end_time": "2022-12-07T12:47:15.901001Z",
     "start_time": "2022-12-07T12:47:15.869290Z"
    }
   },
   "source": [
    "## Ramdom forests"
   ]
  },
  {
   "cell_type": "code",
   "execution_count": 61,
   "id": "82b3d3dd",
   "metadata": {
    "ExecuteTime": {
     "end_time": "2022-12-07T13:08:21.037399Z",
     "start_time": "2022-12-07T13:08:19.046820Z"
    }
   },
   "outputs": [
    {
     "name": "stdout",
     "output_type": "stream",
     "text": [
      "Prediction error for random forest: 7.828827301748736\n"
     ]
    }
   ],
   "source": [
    "model_rf = sklearn.ensemble.RandomForestRegressor(\n",
    "    n_estimators=5,\n",
    "    max_depth=16,\n",
    "    random_state=0,\n",
    "    n_jobs=-1\n",
    ")\n",
    "model_rf.fit(X_train_final, y_train_final)\n",
    "y_pred_rf = model_rf.predict(X_test_final)\n",
    "y_pred_rf = [int(value) if value >= 0 else 0 for value in y_pred_rf]\n",
    "print(\"Prediction error for random forest:\", mean_absolute_error(y_true=y_test_final, y_pred=y_pred_rf))"
   ]
  },
  {
   "cell_type": "code",
   "execution_count": 56,
   "id": "5f719f52",
   "metadata": {
    "ExecuteTime": {
     "end_time": "2022-12-07T13:06:04.636026Z",
     "start_time": "2022-12-07T13:06:04.623066Z"
    }
   },
   "outputs": [],
   "source": [
    "def plot_estimators_influence(estimators, X_val, y_val, X_test, y_test):\n",
    "    \"\"\"Fit a Decision Tree with different maximum depths\n",
    "    and plot learning curve for train and test sets.\n",
    "    \"\"\"\n",
    "\n",
    "    mae_train = []\n",
    "    mae_test = []\n",
    "\n",
    "    # loop over different maximum depths\n",
    "    # and compute MAE\n",
    "    for nestimators in estimators:\n",
    "        print(f\"Fitting with n_estimators = {nestimators}\")\n",
    "        model_tree = sklearn.ensemble.RandomForestRegressor(n_estimators=nestimators)\n",
    "        model_tree = model_tree.fit(X_val, y_val)\n",
    "        y_pred_val = model_tree.predict(X_val)\n",
    "        y_pred_test = model_tree.predict(X_test)\n",
    "        mae_train.append(mean_absolute_error(y_val, y_pred_val))\n",
    "        mae_test.append(mean_absolute_error(y_test, y_pred_test))\n",
    "\n",
    "    fig, axes = plt.subplots(nrows=1, ncols=1, figsize=(16, 8))\n",
    "\n",
    "    # Plot learning curves\n",
    "    axes.plot(estimators, mae_train, color='red', label='Train')\n",
    "    axes.plot(estimators, mae_test, color='blue', label='Test')\n",
    "    axes.set_title('MAE regarding max_depth')\n",
    "    axes.legend()\n",
    "    plt.xlabel(\"n_estimators\")\n",
    "    plt.ylabel(\"MAE\")\n",
    "    plt.grid()\n",
    "    fig.show()"
   ]
  },
  {
   "cell_type": "code",
   "execution_count": 60,
   "id": "222cd8ad",
   "metadata": {
    "ExecuteTime": {
     "end_time": "2022-12-07T13:08:13.177649Z",
     "start_time": "2022-12-07T13:08:06.363328Z"
    }
   },
   "outputs": [
    {
     "name": "stdout",
     "output_type": "stream",
     "text": [
      "Fitting with max_depth = 2\n",
      "Fitting with max_depth = 5\n",
      "Fitting with max_depth = 10\n",
      "Fitting with max_depth = 50\n"
     ]
    },
    {
     "data": {
      "image/png": "[encoded data removed]",
      "text/plain": [
       "<Figure size 1152x576 with 1 Axes>"
      ]
     },
     "metadata": {
      "needs_background": "light"
     },
     "output_type": "display_data"
    }
   ],
   "source": [
    "estimators = [2,5,10,50,]\n",
    "plot_max_depth_influence(\n",
    "    estimators,\n",
    "    X_train_final, y_train_final,\n",
    "    X_test_final, y_test_final,\n",
    ")\n",
    "## We will choose n_estimator = 5 "
   ]
  },
  {
   "cell_type": "markdown",
   "id": "673fe25f",
   "metadata": {},
   "source": [
    "## nn"
   ]
  },
  {
   "cell_type": "code",
   "execution_count": null,
   "id": "5965e2ac",
   "metadata": {},
   "outputs": [],
   "source": [
    "f_select_nn = [\n",
    "#    'text',\n",
    "#    'retweets_count',\n",
    "    'favorites_count',\n",
    "    'followers_count',\n",
    "    'friends_count',\n",
    "    'verified',\n",
    "    'long'\n",
    "]\n",
    "\n",
    "target = \"retweets_count\"\n",
    "\n",
    "X_train, X_test, y_train, y_test = scsplit(train_data, train_data['retweets_count'], stratify=train_data['retweets_count'], train_size=0.7, test_size=0.3)\n",
    "\n",
    "X_train = X_train[f_select_nn]\n",
    "X_test = X_test[f_select_nn]\n",
    "\n",
    "\n",
    "X_train.shape"
   ]
  },
  {
   "cell_type": "code",
   "execution_count": null,
   "id": "987aff9b",
   "metadata": {},
   "outputs": [],
   "source": [
    "from tensorflow.keras.models import Sequential\n",
    "from tensorflow.keras.layers import Dense\n",
    "\n",
    "x = np.asarray(X_train).astype('float32')\n",
    "y = np.asarray(y_train).astype('float32')\n",
    "\n",
    "\n",
    "model = Sequential()\n",
    "model.compile(optimizer='adam', loss='mae')\n",
    "model.add(Dense(4, input_shape=(5,), activation='relu'))\n",
    "model.add(Dense(5, activation='relu'))\n",
    "model.add(Dense(1, activation='relu'))\n",
    "\n",
    "\n",
    "model.fit(x, y, epochs=150, batch_size=10)"
   ]
  },
  {
   "cell_type": "code",
   "execution_count": null,
   "id": "90ef9d5b",
   "metadata": {},
   "outputs": [],
   "source": [
    "x_test = np.asarray(X_test).astype('float32')\n",
    "\n",
    "y_pred = model.predict(x_test)\n",
    "y_pred = [int(value) if value >= 0 else 0 for value in y_pred]\n",
    "\n",
    "print(\"Prediction error:\", mean_absolute_error(y_true=y_test, y_pred=y_pred))"
   ]
  },
  {
   "cell_type": "code",
   "execution_count": null,
   "id": "eaedaff3",
   "metadata": {},
   "outputs": [],
   "source": [
    "lin_reg = sklearn.linear_model.LinearRegression()\n",
    "reg = GradientBoostingRegressor()\n",
    "reg_LGBM = LGBMRegressor()\n",
    "reg_XGB = XGBRegressor()\n",
    "reg_CatBoost = CatBoostRegressor()"
   ]
  },
  {
   "cell_type": "code",
   "execution_count": null,
   "id": "c2f7402a",
   "metadata": {},
   "outputs": [],
   "source": [
    "estimators=[\n",
    "            ('linear', lin_reg),\n",
    "            ('gradient',reg), \n",
    "            ('LGBM', reg_LGBM),\n",
    "            ('XGB', reg_XGB),\n",
    "            ('CatBoost', reg_CatBoost),\n",
    "                ]\n",
    "\n",
    "vrg = VotingRegressor(estimators)\n",
    "vrg.fit(X_train, y_train)"
   ]
  },
  {
   "cell_type": "code",
   "execution_count": null,
   "id": "01daed6c",
   "metadata": {},
   "outputs": [],
   "source": [
    "y_pred = vrg.predict(X_test)\n",
    "y_pred = [int(value) if value >= 0 else 0 for value in y_pred]\n",
    "\n",
    "print(\"Prediction error:\", mean_absolute_error(y_true=y_test, y_pred=y_pred))"
   ]
  },
  {
   "cell_type": "markdown",
   "id": "8e49671a",
   "metadata": {},
   "source": [
    "## Evaluation"
   ]
  },
  {
   "cell_type": "code",
   "execution_count": 63,
   "id": "8389b849",
   "metadata": {
    "ExecuteTime": {
     "end_time": "2022-12-07T13:13:19.811781Z",
     "start_time": "2022-12-07T13:13:19.322766Z"
    }
   },
   "outputs": [],
   "source": [
    "eval_data = pd.read_csv(\"evaluation.csv\")\n",
    "\n",
    "timestamp_process(eval_data)\n",
    "eval_data=one_hot_coding_week(eval_data)\n",
    "catagorized_hour(eval_data)\n",
    "catagorized_length(eval_data)\n",
    "has_hashtag_mention_urls(eval_data)\n",
    "Follower_friend(eval_data)\n",
    "# check_missing_value(train_data)\n",
    "\n"
   ]
  },
  {
   "cell_type": "code",
   "execution_count": 64,
   "id": "8f7d97ca",
   "metadata": {
    "ExecuteTime": {
     "end_time": "2022-12-07T13:13:29.581627Z",
     "start_time": "2022-12-07T13:13:29.555650Z"
    }
   },
   "outputs": [],
   "source": [
    "X_pred = eval_data[f_select]"
   ]
  },
  {
   "cell_type": "code",
   "execution_count": 65,
   "id": "0ccda702",
   "metadata": {
    "ExecuteTime": {
     "end_time": "2022-12-07T13:13:33.067625Z",
     "start_time": "2022-12-07T13:13:33.050687Z"
    }
   },
   "outputs": [
    {
     "data": {
      "text/html": [
       "<div>\n",
       "<style scoped>\n",
       "    .dataframe tbody tr th:only-of-type {\n",
       "        vertical-align: middle;\n",
       "    }\n",
       "\n",
       "    .dataframe tbody tr th {\n",
       "        vertical-align: top;\n",
       "    }\n",
       "\n",
       "    .dataframe thead th {\n",
       "        text-align: right;\n",
       "    }\n",
       "</style>\n",
       "<table border=\"1\" class=\"dataframe\">\n",
       "  <thead>\n",
       "    <tr style=\"text-align: right;\">\n",
       "      <th></th>\n",
       "      <th>text</th>\n",
       "      <th>favorites_count</th>\n",
       "      <th>followers_count</th>\n",
       "      <th>friends_count</th>\n",
       "      <th>verified</th>\n",
       "      <th>long</th>\n",
       "    </tr>\n",
       "  </thead>\n",
       "  <tbody>\n",
       "    <tr>\n",
       "      <th>0</th>\n",
       "      <td>descendue pourcentage vote</td>\n",
       "      <td>0</td>\n",
       "      <td>85</td>\n",
       "      <td>327</td>\n",
       "      <td>0</td>\n",
       "      <td>0</td>\n",
       "    </tr>\n",
       "    <tr>\n",
       "      <th>1</th>\n",
       "      <td>photo demande arbre généalogique</td>\n",
       "      <td>0</td>\n",
       "      <td>427</td>\n",
       "      <td>443</td>\n",
       "      <td>0</td>\n",
       "      <td>0</td>\n",
       "    </tr>\n",
       "    <tr>\n",
       "      <th>2</th>\n",
       "      <td>dossiers promis poste gars vraiment fiable</td>\n",
       "      <td>6</td>\n",
       "      <td>1127</td>\n",
       "      <td>1596</td>\n",
       "      <td>0</td>\n",
       "      <td>0</td>\n",
       "    </tr>\n",
       "    <tr>\n",
       "      <th>3</th>\n",
       "      <td>lol cas faut second tour macron sortir définit...</td>\n",
       "      <td>2</td>\n",
       "      <td>1699</td>\n",
       "      <td>2036</td>\n",
       "      <td>0</td>\n",
       "      <td>1</td>\n",
       "    </tr>\n",
       "    <tr>\n",
       "      <th>4</th>\n",
       "      <td>zemmour putain discours propagandiste littéral...</td>\n",
       "      <td>0</td>\n",
       "      <td>249</td>\n",
       "      <td>369</td>\n",
       "      <td>0</td>\n",
       "      <td>1</td>\n",
       "    </tr>\n",
       "    <tr>\n",
       "      <th>...</th>\n",
       "      <td>...</td>\n",
       "      <td>...</td>\n",
       "      <td>...</td>\n",
       "      <td>...</td>\n",
       "      <td>...</td>\n",
       "      <td>...</td>\n",
       "    </tr>\n",
       "    <tr>\n",
       "      <th>117985</th>\n",
       "      <td>balais inexcusable vote veut</td>\n",
       "      <td>0</td>\n",
       "      <td>4</td>\n",
       "      <td>64</td>\n",
       "      <td>0</td>\n",
       "      <td>0</td>\n",
       "    </tr>\n",
       "    <tr>\n",
       "      <th>117986</th>\n",
       "      <td>balayant rap borloo mâles blcs commis faute fo...</td>\n",
       "      <td>0</td>\n",
       "      <td>744</td>\n",
       "      <td>894</td>\n",
       "      <td>0</td>\n",
       "      <td>1</td>\n",
       "    </tr>\n",
       "    <tr>\n",
       "      <th>117987</th>\n",
       "      <td>triste réalité covid tue malades macron veille...</td>\n",
       "      <td>12</td>\n",
       "      <td>924</td>\n",
       "      <td>159</td>\n",
       "      <td>0</td>\n",
       "      <td>0</td>\n",
       "    </tr>\n",
       "    <tr>\n",
       "      <th>117988</th>\n",
       "      <td>excellente idée pouvez réussir démarche crise ...</td>\n",
       "      <td>0</td>\n",
       "      <td>5</td>\n",
       "      <td>80</td>\n",
       "      <td>0</td>\n",
       "      <td>1</td>\n",
       "    </tr>\n",
       "    <tr>\n",
       "      <th>117989</th>\n",
       "      <td>rt revivez moments forts rencontre président r...</td>\n",
       "      <td>0</td>\n",
       "      <td>555</td>\n",
       "      <td>149</td>\n",
       "      <td>0</td>\n",
       "      <td>0</td>\n",
       "    </tr>\n",
       "  </tbody>\n",
       "</table>\n",
       "<p>117990 rows × 6 columns</p>\n",
       "</div>"
      ],
      "text/plain": [
       "                                                     text  favorites_count  \\\n",
       "0                              descendue pourcentage vote                0   \n",
       "1                        photo demande arbre généalogique                0   \n",
       "2              dossiers promis poste gars vraiment fiable                6   \n",
       "3       lol cas faut second tour macron sortir définit...                2   \n",
       "4       zemmour putain discours propagandiste littéral...                0   \n",
       "...                                                   ...              ...   \n",
       "117985                       balais inexcusable vote veut                0   \n",
       "117986  balayant rap borloo mâles blcs commis faute fo...                0   \n",
       "117987  triste réalité covid tue malades macron veille...               12   \n",
       "117988  excellente idée pouvez réussir démarche crise ...                0   \n",
       "117989  rt revivez moments forts rencontre président r...                0   \n",
       "\n",
       "        followers_count  friends_count  verified  long  \n",
       "0                    85            327         0     0  \n",
       "1                   427            443         0     0  \n",
       "2                  1127           1596         0     0  \n",
       "3                  1699           2036         0     1  \n",
       "4                   249            369         0     1  \n",
       "...                 ...            ...       ...   ...  \n",
       "117985                4             64         0     0  \n",
       "117986              744            894         0     1  \n",
       "117987              924            159         0     0  \n",
       "117988                5             80         0     1  \n",
       "117989              555            149         0     0  \n",
       "\n",
       "[117990 rows x 6 columns]"
      ]
     },
     "execution_count": 65,
     "metadata": {},
     "output_type": "execute_result"
    }
   ],
   "source": [
    "X_pred"
   ]
  },
  {
   "cell_type": "code",
   "execution_count": 69,
   "id": "010c1d8c",
   "metadata": {
    "ExecuteTime": {
     "end_time": "2022-12-07T13:17:28.526858Z",
     "start_time": "2022-12-07T13:17:28.507918Z"
    }
   },
   "outputs": [],
   "source": [
    "test_targets=list(X_pred['text'])"
   ]
  },
  {
   "cell_type": "code",
   "execution_count": 77,
   "id": "28fee57b",
   "metadata": {
    "ExecuteTime": {
     "end_time": "2022-12-07T13:21:29.589108Z",
     "start_time": "2022-12-07T13:21:01.070556Z"
    }
   },
   "outputs": [],
   "source": [
    "test_list = []\n",
    "for i in range(len(X_pred['text'])):\n",
    "    test_list.append(model.infer_vector(X_pred['text'][i].split()))\n",
    "test_x = np.asarray(test_list)"
   ]
  },
  {
   "cell_type": "code",
   "execution_count": 79,
   "id": "8ae5baaf",
   "metadata": {
    "ExecuteTime": {
     "end_time": "2022-12-07T13:21:52.337841Z",
     "start_time": "2022-12-07T13:21:52.324870Z"
    }
   },
   "outputs": [],
   "source": [
    "test_x = pd.DataFrame(test_x)"
   ]
  },
  {
   "cell_type": "code",
   "execution_count": 80,
   "id": "d3f7b627",
   "metadata": {
    "ExecuteTime": {
     "end_time": "2022-12-07T13:22:32.620145Z",
     "start_time": "2022-12-07T13:22:32.599215Z"
    }
   },
   "outputs": [],
   "source": [
    "X_pred_final = pd.concat([X_pred.drop(['text'],axis=1),test_x],axis=1)\n"
   ]
  },
  {
   "cell_type": "markdown",
   "id": "f32a3c63",
   "metadata": {},
   "source": [
    "## At last we choose gradiant boosting because it has least MAE"
   ]
  },
  {
   "cell_type": "code",
   "execution_count": 82,
   "id": "03a6da98",
   "metadata": {
    "ExecuteTime": {
     "end_time": "2022-12-07T13:23:14.226983Z",
     "start_time": "2022-12-07T13:23:13.377545Z"
    }
   },
   "outputs": [],
   "source": [
    "\n",
    "# Predict the number of retweets for the evaluation dataset\n",
    "y_pred = reg.predict(X_pred_final)\n",
    "y_pred = [int(value\n",
    "    ) if value >= 0 else 0 for value in y_pred]\n",
    "# Dump the results into a file that follows the required Kaggle template\n",
    "with open(\"gbr_predictions.txt\", 'w') as f:\n",
    "    writer = csv.writer(f)\n",
    "    writer.writerow([\"TweetID\", \"retweets_count\"])\n",
    "    for index, prediction in enumerate(y_pred):\n",
    "        writer.writerow([str(eval_data['TweetID'].iloc[index]) , str(int(prediction))])\n"
   ]
  },
  {
   "cell_type": "code",
   "execution_count": null,
   "id": "0ceb9905",
   "metadata": {},
   "outputs": [],
   "source": []
  }
 ],
 "metadata": {
  "kernelspec": {
   "display_name": "Python 3 (ipykernel)",
   "language": "python",
   "name": "python3"
  },
  "language_info": {
   "codemirror_mode": {
    "name": "ipython",
    "version": 3
   },
   "file_extension": ".py",
   "mimetype": "text/x-python",
   "name": "python",
   "nbconvert_exporter": "python",
   "pygments_lexer": "ipython3",
   "version": "3.9.12"
  }
 },
 "nbformat": 4,
 "nbformat_minor": 5
}
