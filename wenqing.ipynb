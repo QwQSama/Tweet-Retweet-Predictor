{
 "cells": [
  {
   "cell_type": "code",
   "execution_count": 4,
   "metadata": {},
   "outputs": [],
   "source": [
    "import os\n",
    "import numpy as np"
   ]
  },
  {
   "cell_type": "code",
   "execution_count": 15,
   "metadata": {},
   "outputs": [],
   "source": [
    "\n",
    "objFilePath = 'meshes\\\\armadillo1.obj'\n",
    "\n",
    "points = []\n",
    "faces = []\n",
    "with open(objFilePath) as file:\n",
    "    while 1:\n",
    "        line = file.readline()\n",
    "        if not line:\n",
    "            break\n",
    "        strs = line.split(\" \")\n",
    "        if strs[0] == \"v\":\n",
    "            points.append((float(strs[1]), float(strs[2]), float(strs[3])))\n",
    "        if strs[0] == \"f\":\n",
    "            faces.append((int(strs[1]), int(strs[2]), int(strs[3])))\n",
    "             \n",
    "points = np.array(points)\n",
    "faces = np.array(faces)"
   ]
  },
  {
   "cell_type": "code",
   "execution_count": 16,
   "metadata": {},
   "outputs": [
    {
     "data": {
      "text/plain": [
       "array([[-0.12691 ,  0.147998, -0.114354],\n",
       "       [-0.136929,  0.15039 , -0.093023],\n",
       "       [-0.851321, -0.078791,  0.033856],\n",
       "       ...,\n",
       "       [ 0.128854, -0.035149, -0.349888],\n",
       "       [-0.383633,  0.32337 , -0.011644],\n",
       "       [-0.383877,  0.323405, -0.010039]])"
      ]
     },
     "execution_count": 16,
     "metadata": {},
     "output_type": "execute_result"
    }
   ],
   "source": [
    "points"
   ]
  },
  {
   "cell_type": "code",
   "execution_count": 17,
   "metadata": {},
   "outputs": [
    {
     "data": {
      "text/plain": [
       "array([[    2,     1, 23172],\n",
       "       [    1, 21444, 23172],\n",
       "       [21444, 22001, 23172],\n",
       "       ...,\n",
       "       [11636, 11638, 10833],\n",
       "       [28739, 11636, 11630],\n",
       "       [11630, 11636, 10833]])"
      ]
     },
     "execution_count": 17,
     "metadata": {},
     "output_type": "execute_result"
    }
   ],
   "source": [
    "faces"
   ]
  },
  {
   "cell_type": "code",
   "execution_count": null,
   "metadata": {},
   "outputs": [],
   "source": []
  }
 ],
 "metadata": {
  "kernelspec": {
   "display_name": "Python 3",
   "language": "python",
   "name": "python3"
  },
  "language_info": {
   "codemirror_mode": {
    "name": "ipython",
    "version": 3
   },
   "file_extension": ".py",
   "mimetype": "text/x-python",
   "name": "python",
   "nbconvert_exporter": "python",
   "pygments_lexer": "ipython3",
   "version": "3.8.5"
  }
 },
 "nbformat": 4,
 "nbformat_minor": 4
}
